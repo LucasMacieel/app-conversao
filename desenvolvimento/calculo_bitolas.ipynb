{
  "nbformat": 4,
  "nbformat_minor": 0,
  "metadata": {
    "colab": {
      "provenance": []
    },
    "kernelspec": {
      "name": "python3",
      "display_name": "Python 3"
    },
    "language_info": {
      "name": "python"
    }
  },
  "cells": [
    {
      "cell_type": "code",
      "source": [
        "def calcular_bitolas(tensao_primaria, tensao_secundaria, potencia_secundaria):\n",
        "  potencia_primaria = 1.1 * potencia_secundaria\n",
        "  corrente_primaria = potencia_primaria / tensao_primaria\n",
        "  corrente_secundaria = potencia_secundaria / tensao_secundaria\n",
        "\n",
        "  densidade_corrente = 3\n",
        "\n",
        "  bitola_cabo_primario = corrente_primaria / densidade_corrente\n",
        "  bitola_cabo_secundario = corrente_secundaria / densidade_corrente\n",
        "\n",
        "  return (bitola_cabo_primario, bitola_cabo_secundario)"
      ],
      "metadata": {
        "id": "vnr_WBWh2HWS"
      },
      "execution_count": 5,
      "outputs": []
    },
    {
      "cell_type": "code",
      "source": [
        "bitola1, bitola2 = calcular_bitolas(120, 220, 300)\n",
        "\n",
        "print(f\"Bitola do cabo primário: {bitola1} mm²\\nBitola do cabo secundário: {bitola2} mm²\")"
      ],
      "metadata": {
        "colab": {
          "base_uri": "https://localhost:8080/"
        },
        "id": "JV493lnE4vEl",
        "outputId": "55c78982-ae9f-4484-f56d-41408201f4a5"
      },
      "execution_count": 8,
      "outputs": [
        {
          "output_type": "stream",
          "name": "stdout",
          "text": [
            "Bitola do cabo primário: 0.9166666666666666 mm²\n",
            "Bitola do cabo secundário: 0.45454545454545453 mm²\n"
          ]
        }
      ]
    }
  ]
}