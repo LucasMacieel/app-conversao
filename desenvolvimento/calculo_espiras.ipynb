{
  "nbformat": 4,
  "nbformat_minor": 0,
  "metadata": {
    "colab": {
      "provenance": [],
      "authorship_tag": "ABX9TyN6Rzsbmw5JntR7jYsW7SdQ",
      "include_colab_link": true
    },
    "kernelspec": {
      "name": "python3",
      "display_name": "Python 3"
    },
    "language_info": {
      "name": "python"
    }
  },
  "cells": [
    {
      "cell_type": "markdown",
      "metadata": {
        "id": "view-in-github",
        "colab_type": "text"
      },
      "source": [
        "<a href=\"https://colab.research.google.com/github/LucasMacieel/app-conversao/blob/main/desenvolvimento/calculo_espiras.ipynb\" target=\"_parent\"><img src=\"https://colab.research.google.com/assets/colab-badge.svg\" alt=\"Open In Colab\"/></a>"
      ]
    },
    {
      "cell_type": "code",
      "execution_count": null,
      "metadata": {
        "colab": {
          "base_uri": "https://localhost:8080/"
        },
        "id": "G6ILhA6xUQZq",
        "outputId": "c9aabc5a-a384-4a50-ddc3-10ac9867ee2c"
      },
      "outputs": [
        {
          "output_type": "stream",
          "name": "stdout",
          "text": [
            "459\n"
          ]
        }
      ],
      "source": [
        "import math\n",
        "\n",
        "def numero_espiras(potencia_aparente, tensao_primaria, tensao_secundaria):\n",
        "  n_primario = n_secundario = 0\n",
        "  # i_primario = calcular_corrente(potencia_aparente, tensao_primaria)\n",
        "  # i_secundario = calcular_corrente(potencia_aparente, tensao_secundaria)\n",
        "\n",
        "  # n_primario = calcular_espiras()\n",
        "  # n_secundario = calcular_espiras()\n",
        "\n",
        "  return (n_primario, n_secundario)\n",
        "\n",
        "def calcular_corrente(potencia_aparente, tensao):\n",
        "  return potencia_aparente/tensao\n",
        "\n",
        "\n",
        "def calcular_espiras(potencia, sm, frequencia, densidade_fluxo=9000):\n",
        "  return math.ceil((potencia * 1E8)/\n",
        "   (math.sqrt(2)*math.pi*densidade_fluxo*sm*frequencia))\n",
        "\n",
        "print(calcular_espiras(220, 20, 60))"
      ]
    },
    {
      "cell_type": "markdown",
      "source": [
        "# REFERÊNCIAS:\n",
        "\n",
        "- [Cálculo do nº de espiras/volt dos transformadores - EP206](https://www.youtube.com/watch?v=9bACSLIbfcU)\n",
        "- [Como fazer um transformador passo a passo](https://www.youtube.com/watch?v=KawiFFmQvYE)"
      ],
      "metadata": {
        "id": "GxI18xChu6QP"
      }
    }
  ]
}