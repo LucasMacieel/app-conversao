{
  "nbformat": 4,
  "nbformat_minor": 0,
  "metadata": {
    "colab": {
      "provenance": [],
      "authorship_tag": "ABX9TyOvUQfpmAM2012vE6cbYKO1",
      "include_colab_link": true
    },
    "kernelspec": {
      "name": "python3",
      "display_name": "Python 3"
    },
    "language_info": {
      "name": "python"
    }
  },
  "cells": [
    {
      "cell_type": "markdown",
      "metadata": {
        "id": "view-in-github",
        "colab_type": "text"
      },
      "source": [
        "<a href=\"https://colab.research.google.com/github/LucasMacieel/app-conversao/blob/main/desenvolvimento/calculo_espiras.ipynb\" target=\"_parent\"><img src=\"https://colab.research.google.com/assets/colab-badge.svg\" alt=\"Open In Colab\"/></a>"
      ]
    },
    {
      "cell_type": "markdown",
      "source": [
        "# Importar Bibliotecas"
      ],
      "metadata": {
        "id": "NyISuBxOget1"
      }
    },
    {
      "cell_type": "code",
      "source": [
        "import math"
      ],
      "metadata": {
        "id": "_8C5xaaFgbc2"
      },
      "execution_count": 1,
      "outputs": []
    },
    {
      "cell_type": "markdown",
      "source": [
        "# Cálculo Número Espiras"
      ],
      "metadata": {
        "id": "6HKMOeIshKES"
      }
    },
    {
      "cell_type": "code",
      "execution_count": 2,
      "metadata": {
        "id": "G6ILhA6xUQZq"
      },
      "outputs": [],
      "source": [
        "def numero_espiras(frequencia, potencia_aparente,\n",
        "                   tensao_primaria, tensao_secundaria):\n",
        "  n_primario = n_secundario = 0\n",
        "  # Valor para Lâmina de ferro silício de boa qualidade com resfriamento natual\n",
        "  inducao_magnetica_max = 11300\n",
        "  tipo_transformador = \"1p1s\"\n",
        "  tipo_lamina = \"padronizada\"\n",
        "  secao_magnetica = calcular_secao_magnetica(tipo_transformador, tipo_lamina,\n",
        "                                             potencia_aparente, frequencia)\n",
        "\n",
        "  n_primario = calcular_espiras(tensao_primaria, inducao_magnetica_max,\n",
        "                                secao_magnetica, frequencia)\n",
        "  n_secundario = calcular_espiras(tensao_secundaria, inducao_magnetica_max,\n",
        "                                  secao_magnetica, frequencia)\n",
        "  # Fator de 10% aplicado para compensar quedas de tensão\n",
        "  n_secundario = math.ceil(1.1*n_secundario)\n",
        "\n",
        "  return (n_primario, n_secundario)"
      ]
    },
    {
      "cell_type": "markdown",
      "source": [
        "# Funções Auxiliares"
      ],
      "metadata": {
        "id": "figlnbDFhRh8"
      }
    },
    {
      "cell_type": "markdown",
      "source": [
        "## Seção Magnética"
      ],
      "metadata": {
        "id": "uToTf7BJhekP"
      }
    },
    {
      "cell_type": "code",
      "source": [
        "transformador = {\n",
        "    \"1p1s\": 0,\n",
        "    \"2p1s-1p2s\": 1,\n",
        "    \"2p2s\": 2\n",
        "}\n",
        "\n",
        "lamina = {\n",
        "    \"padronizada\": 0,\n",
        "    \"comprida\": 1\n",
        "}"
      ],
      "metadata": {
        "id": "7coSp70Ih8XT"
      },
      "execution_count": 3,
      "outputs": []
    },
    {
      "cell_type": "code",
      "source": [
        "def calcular_secao_magnetica(tipo_transformador, tipo_lamina,\n",
        "                             potencia, frequencia):\n",
        "  secao_magnetica = 0\n",
        "  cod_transformador = transformador[tipo_transformador]\n",
        "  cod_lamina = lamina[tipo_lamina]\n",
        "\n",
        "  if cod_transformador == 0:\n",
        "    if cod_lamina == 0:\n",
        "      secao_magnetica = 7.5 * math.sqrt(potencia/frequencia)\n",
        "    elif cod_lamina == 1:\n",
        "      secao_magnetica = 6 * math.sqrt(potencia/frequencia)\n",
        "    else:\n",
        "      print(\"Tipo de lâmina inválida!\")\n",
        "  elif cod_transformador == 1:\n",
        "    if cod_lamina == 0:\n",
        "      secao_magnetica = 7.5 * math.sqrt(1.25*potencia/frequencia)\n",
        "    elif cod_lamina == 1:\n",
        "      secao_magnetica = 6 * math.sqrt(1.25*potencia/frequencia)\n",
        "    else:\n",
        "      print(\"Tipo de lâmina inválida!\")\n",
        "  elif cod_transformador == 2:\n",
        "    if cod_lamina == 0:\n",
        "      secao_magnetica = 7.5 * math.sqrt(1.5*potencia/frequencia)\n",
        "    elif cod_lamina == 1:\n",
        "      secao_magnetica = 6 * math.sqrt(1.5*potencia/frequencia)\n",
        "    else:\n",
        "      print(\"Tipo de lâmina inválida!\")\n",
        "  else:\n",
        "    print(\"Tipo de transformador inválido!\")\n",
        "\n",
        "  return secao_magnetica"
      ],
      "metadata": {
        "id": "Bb7GG7wnhoPC"
      },
      "execution_count": 4,
      "outputs": []
    },
    {
      "cell_type": "markdown",
      "source": [
        "## Número Espiras"
      ],
      "metadata": {
        "id": "lPl0o8epvSvJ"
      }
    },
    {
      "cell_type": "code",
      "source": [
        "def calcular_espiras(tensao, inducao_magnetica_max,\n",
        "                     secao_magnetica, frequencia):\n",
        "  return math.ceil((tensao * 1E8)/\n",
        "   (4.44*inducao_magnetica_max*secao_magnetica*frequencia))"
      ],
      "metadata": {
        "id": "7YxpV93RvaBQ"
      },
      "execution_count": 5,
      "outputs": []
    },
    {
      "cell_type": "markdown",
      "source": [
        "# Testes"
      ],
      "metadata": {
        "id": "If0_QKOfhls9"
      }
    },
    {
      "cell_type": "code",
      "source": [
        "calcular_secao_magnetica(\"1p1s\", \"padronizada\", 120, 60)"
      ],
      "metadata": {
        "colab": {
          "base_uri": "https://localhost:8080/"
        },
        "id": "TLLzJqXGxVUk",
        "outputId": "eaa3a816-00e2-4094-ecd7-8ab38492b630"
      },
      "execution_count": 6,
      "outputs": [
        {
          "output_type": "execute_result",
          "data": {
            "text/plain": [
              "10.606601717798213"
            ]
          },
          "metadata": {},
          "execution_count": 6
        }
      ]
    },
    {
      "cell_type": "code",
      "source": [
        "calcular_espiras(120, 11300, 40, 60)"
      ],
      "metadata": {
        "colab": {
          "base_uri": "https://localhost:8080/"
        },
        "id": "Nq5wuPq5PNeq",
        "outputId": "38600f5a-5794-449e-cd11-0b4ba51d220f"
      },
      "execution_count": 7,
      "outputs": [
        {
          "output_type": "execute_result",
          "data": {
            "text/plain": [
              "100"
            ]
          },
          "metadata": {},
          "execution_count": 7
        }
      ]
    },
    {
      "cell_type": "code",
      "source": [
        "np, ns = numero_espiras(60, 300, 120, 220)\n",
        "\n",
        "print(f\"Número de Espiras\\nEnrolamento Primário: {np}\\nEnrolamento Secundário: {ns}\")"
      ],
      "metadata": {
        "colab": {
          "base_uri": "https://localhost:8080/"
        },
        "id": "-Q18CO4Fy0WE",
        "outputId": "9fdb4fd7-492a-4a13-9748-b84fc1603025"
      },
      "execution_count": 8,
      "outputs": [
        {
          "output_type": "stream",
          "name": "stdout",
          "text": [
            "Número de Espiras\n",
            "Enrolamento Primário: 238\n",
            "Enrolamento Secundário: 480\n"
          ]
        }
      ]
    },
    {
      "cell_type": "markdown",
      "source": [
        "# REFERÊNCIAS:\n",
        "\n",
        "- Transformadores - Alfonso Martignoni\n",
        "- [Cálculo do nº de espiras/volt dos transformadores - EP206](https://www.youtube.com/watch?v=9bACSLIbfcU)\n",
        "- [Como fazer um transformador passo a passo](https://www.youtube.com/watch?v=KawiFFmQvYE)\n",
        "- [Transformadores - Teoria e Projeto](http://eletronicaifpb.6te.net/files/Transformadores.pdf)"
      ],
      "metadata": {
        "id": "GxI18xChu6QP"
      }
    }
  ]
}